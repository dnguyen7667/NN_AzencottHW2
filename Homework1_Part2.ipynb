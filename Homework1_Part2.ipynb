{
 "cells": [
  {
   "cell_type": "code",
   "execution_count": 1,
   "metadata": {},
   "outputs": [],
   "source": [
    "import numpy as np\n",
    "import pandas as pd\n",
    "import seaborn as sns\n",
    "import matplotlib.pyplot as plt\n",
    "%matplotlib inline\n",
    "from io import StringIO\n",
    "\n",
    "import matplotlib.pylab as pylab\n",
    "import warnings\n",
    "import time\n",
    "warnings.filterwarnings(\"ignore\")\n",
    "\n",
    "import scipy.stats as stats\n",
    "\n",
    "\n",
    "\n",
    "\n"
   ]
  },
  {
   "cell_type": "markdown",
   "metadata": {},
   "source": [
    "# part 2 implementation and test of a small MLP for inputs of dimension 1. The main goals of part2 have been described in details, spcifically in the last lecture preceding the diffusion of the present text.\n",
    "\n",
    "## part 2 step1\n",
    "pick four random numbers\n",
    "a0 , a1, b1, in the interval [-1 , 1],\n",
    "a2, b2, in the interval [-1/2 , 1/2],\n",
    "\n",
    "for any input number x in [0,1] define the function\n",
    "y= F(x) = a0 + a1 cos(x) + b1 sin(x) + a2 cos(2x) + b2 sin(2x)\n",
    "plot your function F(x) versus x in [0,1]\n",
    "the goal is to define and train an MLP dedicated to the approximation of the\n",
    "function F(x)"
   ]
  },
  {
   "cell_type": "code",
   "execution_count": 2,
   "metadata": {},
   "outputs": [],
   "source": [
    "# input x\n",
    "\n",
    "np.random.seed(76)\n",
    "x = np.random.uniform(0,1)\n",
    "a0, a1, b1 = np.random.uniform(-1,1,3)\n",
    "a2, b2 = np.random.uniform(-1/2,1/2,2)\n",
    "\n",
    "# define function to return y = F(x)\n",
    "def func_y (a0, a1, x, b1, a2, b2):\n",
    "    return a0 + a1*np.cos(x) + b1*np.sin(x) + a2*np.cos(2*x) + b2*np.sin(2*x)"
   ]
  },
  {
   "cell_type": "code",
   "execution_count": 3,
   "metadata": {},
   "outputs": [],
   "source": [
    "xs = sorted(np.random.uniform(0,1,1200))\n",
    "ys = []\n",
    "for x in xs:\n",
    "    y = func_y(a0, a1, x, b1, a2, b2)\n",
    "    ys.append(y)"
   ]
  },
  {
   "cell_type": "code",
   "execution_count": 4,
   "metadata": {},
   "outputs": [
    {
     "data": {
      "text/plain": [
       "Text(0, 0.5, 'y')"
      ]
     },
     "execution_count": 4,
     "metadata": {},
     "output_type": "execute_result"
    },
    {
     "data": {
      "image/png": "[encoded data removed]",
      "text/plain": [
       "<Figure size 1080x576 with 1 Axes>"
      ]
     },
     "metadata": {
      "needs_background": "light"
     },
     "output_type": "display_data"
    }
   ],
   "source": [
    "fig, ax = plt.subplots(figsize = (15,8))\n",
    "\n",
    "ax.scatter(xs, ys)\n",
    "ax.set_title(\"Plot of F(x)\")\n",
    "ax.set_xlabel(\"x\")\n",
    "ax.set_ylabel('y')"
   ]
  },
  {
   "cell_type": "markdown",
   "metadata": {},
   "source": [
    "## part 2 step2\n",
    "simulate a training set of N =1000 inputs randomly selected in the interval [0,1]\n",
    "TRAIN.SET = { x1, x2, , xN }\n",
    "TRAIN.OUTPUTS = {y1, y2, ..., yN} computed by yj= F(xj)\n",
    "\n",
    "simulate a test set of 500 inputs randomly selected in the interval [0,1]\n",
    "TEST.SET = { x_(N+1), , x_(N+500) }\n",
    "TEST.OUTPUTS = {y_(N+1), ..., y_(N+500} computed by yj= F(xj)\n",
    "for the next questions the function F(x) be assumed to be unknown"
   ]
  },
  {
   "cell_type": "code",
   "execution_count": 5,
   "metadata": {},
   "outputs": [],
   "source": [
    "# 1000 train examples\n",
    "N_train = 1000\n",
    "np.random.seed(176)\n",
    "train_set = sorted(np.random.uniform(0,1,N_train))\n",
    "\n",
    "# test output\n",
    "train_y = []\n",
    "for x in train_set:\n",
    "    y = func_y(a0, a1, x, b1, a2, b2)\n",
    "    train_y.append(y)"
   ]
  },
  {
   "cell_type": "code",
   "execution_count": 6,
   "metadata": {},
   "outputs": [],
   "source": [
    "# 500 examples\n",
    "N_test = 500\n",
    "np.random.seed(76)\n",
    "test_set = sorted(np.random.uniform(0,1,N_test))\n",
    "\n",
    "# test output\n",
    "test_y = []\n",
    "for x in test_set:\n",
    "    y = func_y(a0, a1, x, b1, a2, b2)\n",
    "    test_y.append(y)"
   ]
  },
  {
   "cell_type": "markdown",
   "metadata": {},
   "source": [
    "## part 2 step3\n",
    "define precisely an MLP with 4 layers and 30 neurons as described in last lecture\n",
    "L1 =input layer of size 1= 1 input neuron denoted X\n",
    "L2 = layer of size 18 = 2 groups of 9 neurons Z1 Z2 ...Z9 and U1 U2 ...U9\n",
    "L3 = layer of size 10 = 10 neurons S1...S10\n",
    "L4 = output layer of size 1 = 1 neuron denoted R\n",
    "the states of neurons X, Zi, Uj, Sk, R are denoted x, zi, uj, sk, r\n",
    "\n",
    "all the neurons of layers L2 and L3 are binary neurons taking only the values 0 or 1\n",
    "\n",
    "any neuron Zi in L2 computes its (binary) state by the response function\n",
    "g(v) = 1 if v>0 and g(v) = 0 if v< 0\n",
    "where v = wi1 x + bi and x = state of neuron X\n",
    "\n",
    "any neuron Uj in L2 computes its (binary) state by the response function g(v)\n",
    "where v = cj1 x + dj and x = state of neuron X\n",
    "describe precisely the explicit weights wi1 , cj1 and thresholds bi dj as described in\n",
    "the last lecture\n",
    "Explain how layers L2 and L3 should respond to any given input x\n",
    "Implement a program (in R or in Python ) to compute the states of L2 and the\n",
    "states of L3 for any given input x\n",
    "Apply this program to the first 20 values x1 ... x20 in the training set and verify if\n",
    "the values taken by L2 and L3 correspond to the theoretically expexted values"
   ]
  },
  {
   "cell_type": "code",
   "execution_count": 7,
   "metadata": {},
   "outputs": [],
   "source": [
    "\n",
    "n_layers = 4\n",
    "n_neurons = 30\n",
    "\n",
    "# Layer 1 L1\n",
    "n_l1 = 1\n",
    "\n",
    "\n",
    "# Layer 2 L2\n",
    "L2_z = 9\n",
    "L2_u = 9\n",
    "\n",
    "\n",
    "# Layer 3 L3\n",
    "n_l3 = 10\n",
    "\n",
    "\n",
    "# Layer 3 L3\n",
    "n_l3 = 10\n",
    "\n",
    "\n",
    "# Layer 4 L4\n",
    "n_l4 = 1"
   ]
  },
  {
   "cell_type": "code",
   "execution_count": 8,
   "metadata": {},
   "outputs": [],
   "source": [
    "np.random.seed(76)\n",
    "# Z's\n",
    "wi = np.ones(9).reshape(1,-1)\n",
    "bi = np.array(np.arange(-1/10, -1, -1/10)).reshape(1,-1)\n",
    "\n",
    "# U's\n",
    "cj = -1 * np.ones(9).reshape(1,-1)\n",
    "dj = -1 * np.array(np.arange(-1/10, -1, -1/10)).reshape(1,-1)"
   ]
  },
  {
   "cell_type": "code",
   "execution_count": 9,
   "metadata": {},
   "outputs": [],
   "source": [
    "def binary(v):\n",
    "    return np.where(v>0, 1, 0)"
   ]
  },
  {
   "cell_type": "markdown",
   "metadata": {},
   "source": [
    "## Layer 3"
   ]
  },
  {
   "cell_type": "code",
   "execution_count": 10,
   "metadata": {},
   "outputs": [],
   "source": [
    "# m is a vector that will be learned\n",
    "def out_l4(m):\n",
    "    return m.reshape(1, -1).dot(S.reshape(-1,1))"
   ]
  },
  {
   "cell_type": "markdown",
   "metadata": {},
   "source": [
    "Describe precisely how layers L2 and L3 should respond to any given input x in a\n",
    "given interval such as 3/10 ≤ x <4/10 or such as 6/10 ≤ x <7/10\n",
    "Denote X1, X2, X3 the three vectors gathering respectively the states of the\n",
    "neurons in layers L1 L2 L3 . Implement a program to compute successively the\n",
    "vectors X2 , X3 for any given input X1=x.\n",
    "As explained in class, do not try to do this by using tensorflow, but use matrix\n",
    "multiplications and matrix sums to express X2 in terms of X1, and X3 in terms of\n",
    "X2. As indicated in today's lecture these formulas have a simple form provided\n",
    "one defines the vector g(V) for any vector V as the vector with coordinates g(V1) ,\n",
    "g(V2), g(V3) ...where V1 V2.V3.. are the coordinates of V\n",
    "\n",
    "Apply this program to the first 20 values x1 ... x20 in the training set and verify if\n",
    "the values taken by L2 and L3 correspond to the theoretically expected values"
   ]
  },
  {
   "cell_type": "code",
   "execution_count": 11,
   "metadata": {},
   "outputs": [],
   "source": [
    "def compute_x2(x, wi, bi, cj, dj):\n",
    "    # out of layer 2 for Z's\n",
    "    out_l2_z = binary(np.array(x).reshape(1,-1).dot(wi)+bi)\n",
    "    out_l2_u = binary(np.array(x).reshape(1,-1).dot(cj) + dj)\n",
    "    \n",
    "    return out_l2_z, out_l2_u"
   ]
  },
  {
   "cell_type": "code",
   "execution_count": 12,
   "metadata": {},
   "outputs": [],
   "source": [
    "def compute_Sk(pkk_1, zk_1, hkk, uk, tk):\n",
    "    return pkk_1*zk_1 + hkk*uk + tk \n",
    "\n",
    "\n",
    "h11 = 1\n",
    "t1 = -1/2\n",
    "\n",
    "\n",
    "p10_9 = 1\n",
    "t10 = -1/2\n",
    "\n",
    "\n",
    "pkk_1 = 1\n",
    "hkk = 1\n",
    "tk = -3/2\n",
    "\n",
    "def compute_x3(x, h11, t1, n_l3, out_l2_u, out_l2_z, pkk_1, hkk, tk, p10_9, t10):\n",
    "    # S = neurons in layer 3\n",
    "    S = np.zeros(shape=(n_l3, 1))\n",
    "    S[0] = binary(h11*out_l2_u[0][0]+t1)\n",
    "\n",
    "\n",
    "    for k in range(1,9,1):\n",
    "        S[k] = binary(compute_Sk(pkk_1, out_l2_z[0][k-1], hkk, out_l2_u[0][k], tk))\n",
    "\n",
    "\n",
    "    p10_9 = 1\n",
    "    t10 = -1/2\n",
    "    S[9] = binary(p10_9*out_l2_z[0][8] + t10)\n",
    "    \n",
    "    return S"
   ]
  },
  {
   "cell_type": "markdown",
   "metadata": {},
   "source": [
    "## For input x in a given interval 3/10 < x < 4/10, given the "
   ]
  },
  {
   "cell_type": "code",
   "execution_count": null,
   "metadata": {},
   "outputs": [],
   "source": []
  },
  {
   "cell_type": "code",
   "execution_count": null,
   "metadata": {},
   "outputs": [],
   "source": []
  },
  {
   "cell_type": "code",
   "execution_count": null,
   "metadata": {},
   "outputs": [],
   "source": []
  },
  {
   "cell_type": "markdown",
   "metadata": {},
   "source": [
    "## Step 4"
   ]
  },
  {
   "cell_type": "code",
   "execution_count": 13,
   "metadata": {},
   "outputs": [],
   "source": [
    "# To learn m's\n",
    "K = []\n",
    "\n",
    "\n",
    "for j in range(n_l3):\n",
    "    s = np.zeros(shape=(n_l3, 1))\n",
    "    k = []\n",
    "    for x in test_set:\n",
    "        z, u = compute_x2(x, wi, bi, cj, dj)\n",
    "        s = compute_x3(x, h11, t1, n_l3, u, z, pkk_1, hkk, tk, p10_9, t10)\n",
    "        if (s[j] > 0):\n",
    "            k.append(x)\n",
    "    \n",
    "    K.append(k)\n",
    "\n"
   ]
  },
  {
   "cell_type": "code",
   "execution_count": 14,
   "metadata": {},
   "outputs": [],
   "source": [
    "ms = []\n",
    "for k in K:\n",
    "    if (len(k) > 0):\n",
    "        ms.append(np.mean(k))\n",
    "    else:\n",
    "        ms.append(0)"
   ]
  },
  {
   "cell_type": "code",
   "execution_count": 15,
   "metadata": {},
   "outputs": [],
   "source": [
    "def compute_x4(ms, s):\n",
    "    return np.array(ms).reshape(1,-1).dot(np.array(s).reshape(-1,1))"
   ]
  },
  {
   "cell_type": "code",
   "execution_count": 16,
   "metadata": {},
   "outputs": [],
   "source": [
    "G = []\n",
    "X = [x/100 for x in range(0, 101, 1)]\n",
    "for x in X:\n",
    "    z, u = compute_x2(x, wi, bi, cj, dj)\n",
    "    s = compute_x3(x, h11, t1, n_l3, u, z, pkk_1, hkk, tk, p10_9, t10)\n",
    "    gx = compute_x4(ms, s)\n",
    "    \n",
    "    G.append(gx)"
   ]
  },
  {
   "cell_type": "code",
   "execution_count": 30,
   "metadata": {},
   "outputs": [
    {
     "data": {
      "text/plain": [
       "Text(0, 0.5, 'Y')"
      ]
     },
     "execution_count": 30,
     "metadata": {},
     "output_type": "execute_result"
    },
    {
     "data": {
      "image/png": "[encoded data removed]",
      "text/plain": [
       "<Figure size 864x504 with 1 Axes>"
      ]
     },
     "metadata": {
      "needs_background": "light"
     },
     "output_type": "display_data"
    }
   ],
   "source": [
    "\n",
    "F = []\n",
    "\n",
    "for x in X:\n",
    "    F.append(func_y(a0, a1, x, b1, a2, b2))\n",
    "\n",
    "\n",
    "fig, ax = plt.subplots(figsize = (12, 7))\n",
    "ax.scatter(X, y = G, c = 'r', label = 'Predicted')\n",
    "\n",
    "ax.scatter(X, y= F, c = 'g', label = 'True')\n",
    "ax.legend()\n",
    "\n",
    "ax.set_title('True and Predicted values')\n",
    "ax.set_xlabel('X')\n",
    "ax.set_ylabel('Y')"
   ]
  },
  {
   "cell_type": "markdown",
   "metadata": {},
   "source": [
    "## Step 7"
   ]
  },
  {
   "cell_type": "code",
   "execution_count": 31,
   "metadata": {},
   "outputs": [],
   "source": [
    "preds_train = []\n",
    "\n",
    "for x in train_set:\n",
    "    z, u = compute_x2(x, wi, bi, cj, dj)\n",
    "    s = compute_x3(x, h11, t1, n_l3, u, z, pkk_1, hkk, tk, p10_9, t10)\n",
    "    gx = compute_x4(ms, s)\n",
    "    \n",
    "    gx = gx[0][0]\n",
    "    preds_train.append(gx)\n",
    "    \n",
    "    \n",
    "MAE_train = np.sum(abs(np.array(preds_train) - np.array(train_y)))/N_train\n",
    "MSE_train = (np.sum( (np.array(preds_train) - np.array(train_y))**2))/N_train"
   ]
  },
  {
   "cell_type": "code",
   "execution_count": 32,
   "metadata": {},
   "outputs": [],
   "source": [
    "preds_test = []\n",
    "\n",
    "for x in test_set:\n",
    "    z, u = compute_x2(x, wi, bi, cj, dj)\n",
    "    s = compute_x3(x, h11, t1, n_l3, u, z, pkk_1, hkk, tk, p10_9, t10)\n",
    "    gx = compute_x4(ms, s)\n",
    "    \n",
    "    gx = gx[0][0]\n",
    "    preds_test.append(gx)\n",
    "    \n",
    "    \n",
    "MAE_test = np.sum(abs(np.array(preds_test) - np.array(test_y)))/N_test\n",
    "MSE_test = (np.sum( (np.array(preds_test) - np.array(test_y))**2))/N_test"
   ]
  },
  {
   "cell_type": "code",
   "execution_count": 33,
   "metadata": {},
   "outputs": [
    {
     "name": "stdout",
     "output_type": "stream",
     "text": [
      "MSE train = 0.08517191170313654\n"
     ]
    }
   ],
   "source": [
    "print ('MSE train =',MSE_train)"
   ]
  },
  {
   "cell_type": "code",
   "execution_count": 34,
   "metadata": {},
   "outputs": [
    {
     "name": "stdout",
     "output_type": "stream",
     "text": [
      "MSE test = 0.08080457043892923\n"
     ]
    }
   ],
   "source": [
    "print ('MSE test =',MSE_test)"
   ]
  },
  {
   "cell_type": "code",
   "execution_count": null,
   "metadata": {},
   "outputs": [],
   "source": []
  }
 ],
 "metadata": {
  "kernelspec": {
   "display_name": "Python 3",
   "language": "python",
   "name": "python3"
  },
  "language_info": {
   "codemirror_mode": {
    "name": "ipython",
    "version": 3
   },
   "file_extension": ".py",
   "mimetype": "text/x-python",
   "name": "python",
   "nbconvert_exporter": "python",
   "pygments_lexer": "ipython3",
   "version": "3.7.4"
  }
 },
 "nbformat": 4,
 "nbformat_minor": 4
}
