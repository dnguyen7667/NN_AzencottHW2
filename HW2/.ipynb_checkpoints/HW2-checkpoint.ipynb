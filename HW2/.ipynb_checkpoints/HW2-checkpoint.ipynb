{
 "cells": [
  {
   "cell_type": "code",
   "execution_count": 1,
   "metadata": {},
   "outputs": [],
   "source": [
    "import pandas as pd\n",
    "import matplotlib.pyplot as plt\n",
    "import numpy as np\n",
    "import tensorflow as tf\n",
    "from tensorflow import keras\n",
    "from sklearn.model_selection import ShuffleSplit\n",
    "import matplotlib.lines as mlines\n",
    "\n"
   ]
  },
  {
   "cell_type": "code",
   "execution_count": 2,
   "metadata": {},
   "outputs": [],
   "source": [
    "data = pd.read_csv('data.csv', index_col=0)"
   ]
  },
  {
   "cell_type": "code",
   "execution_count": 3,
   "metadata": {},
   "outputs": [
    {
     "data": {
      "text/html": [
       "<div>\n",
       "<style scoped>\n",
       "    .dataframe tbody tr th:only-of-type {\n",
       "        vertical-align: middle;\n",
       "    }\n",
       "\n",
       "    .dataframe tbody tr th {\n",
       "        vertical-align: top;\n",
       "    }\n",
       "\n",
       "    .dataframe thead th {\n",
       "        text-align: right;\n",
       "    }\n",
       "</style>\n",
       "<table border=\"1\" class=\"dataframe\">\n",
       "  <thead>\n",
       "    <tr style=\"text-align: right;\">\n",
       "      <th></th>\n",
       "      <th>1</th>\n",
       "      <th>2</th>\n",
       "      <th>3</th>\n",
       "      <th>4</th>\n",
       "      <th>5</th>\n",
       "      <th>6</th>\n",
       "      <th>7</th>\n",
       "      <th>8</th>\n",
       "      <th>9</th>\n",
       "      <th>10</th>\n",
       "      <th>class</th>\n",
       "    </tr>\n",
       "  </thead>\n",
       "  <tbody>\n",
       "    <tr>\n",
       "      <th>0</th>\n",
       "      <td>0.229043</td>\n",
       "      <td>0.807926</td>\n",
       "      <td>-0.052442</td>\n",
       "      <td>0.082634</td>\n",
       "      <td>0.261718</td>\n",
       "      <td>0.148790</td>\n",
       "      <td>0.635431</td>\n",
       "      <td>0.051062</td>\n",
       "      <td>0.032902</td>\n",
       "      <td>-0.086652</td>\n",
       "      <td>F</td>\n",
       "    </tr>\n",
       "    <tr>\n",
       "      <th>1</th>\n",
       "      <td>0.019197</td>\n",
       "      <td>-0.040001</td>\n",
       "      <td>0.288973</td>\n",
       "      <td>-0.042597</td>\n",
       "      <td>0.261718</td>\n",
       "      <td>-1.013906</td>\n",
       "      <td>0.069175</td>\n",
       "      <td>0.890701</td>\n",
       "      <td>0.095265</td>\n",
       "      <td>-0.842014</td>\n",
       "      <td>F</td>\n",
       "    </tr>\n",
       "    <tr>\n",
       "      <th>2</th>\n",
       "      <td>0.043885</td>\n",
       "      <td>-0.173471</td>\n",
       "      <td>0.285416</td>\n",
       "      <td>-0.775121</td>\n",
       "      <td>0.172340</td>\n",
       "      <td>-0.391033</td>\n",
       "      <td>0.333428</td>\n",
       "      <td>-1.807711</td>\n",
       "      <td>-0.996086</td>\n",
       "      <td>-0.410850</td>\n",
       "      <td>F</td>\n",
       "    </tr>\n",
       "    <tr>\n",
       "      <th>3</th>\n",
       "      <td>-0.091897</td>\n",
       "      <td>0.297600</td>\n",
       "      <td>0.079145</td>\n",
       "      <td>0.196496</td>\n",
       "      <td>0.261718</td>\n",
       "      <td>-0.183409</td>\n",
       "      <td>0.220177</td>\n",
       "      <td>0.305093</td>\n",
       "      <td>-0.278912</td>\n",
       "      <td>-0.163443</td>\n",
       "      <td>F</td>\n",
       "    </tr>\n",
       "    <tr>\n",
       "      <th>4</th>\n",
       "      <td>0.438888</td>\n",
       "      <td>0.195534</td>\n",
       "      <td>0.143160</td>\n",
       "      <td>-0.809435</td>\n",
       "      <td>0.261718</td>\n",
       "      <td>-1.138481</td>\n",
       "      <td>-0.232828</td>\n",
       "      <td>-0.087894</td>\n",
       "      <td>-0.278912</td>\n",
       "      <td>-0.802015</td>\n",
       "      <td>F</td>\n",
       "    </tr>\n",
       "  </tbody>\n",
       "</table>\n",
       "</div>"
      ],
      "text/plain": [
       "          1         2         3         4         5         6         7  \\\n",
       "0  0.229043  0.807926 -0.052442  0.082634  0.261718  0.148790  0.635431   \n",
       "1  0.019197 -0.040001  0.288973 -0.042597  0.261718 -1.013906  0.069175   \n",
       "2  0.043885 -0.173471  0.285416 -0.775121  0.172340 -0.391033  0.333428   \n",
       "3 -0.091897  0.297600  0.079145  0.196496  0.261718 -0.183409  0.220177   \n",
       "4  0.438888  0.195534  0.143160 -0.809435  0.261718 -1.138481 -0.232828   \n",
       "\n",
       "          8         9        10 class  \n",
       "0  0.051062  0.032902 -0.086652     F  \n",
       "1  0.890701  0.095265 -0.842014     F  \n",
       "2 -1.807711 -0.996086 -0.410850     F  \n",
       "3  0.305093 -0.278912 -0.163443     F  \n",
       "4 -0.087894 -0.278912 -0.802015     F  "
      ]
     },
     "execution_count": 3,
     "metadata": {},
     "output_type": "execute_result"
    }
   ],
   "source": [
    "data.head()"
   ]
  },
  {
   "cell_type": "code",
   "execution_count": 4,
   "metadata": {},
   "outputs": [
    {
     "data": {
      "text/html": [
       "<div>\n",
       "<style scoped>\n",
       "    .dataframe tbody tr th:only-of-type {\n",
       "        vertical-align: middle;\n",
       "    }\n",
       "\n",
       "    .dataframe tbody tr th {\n",
       "        vertical-align: top;\n",
       "    }\n",
       "\n",
       "    .dataframe thead th {\n",
       "        text-align: right;\n",
       "    }\n",
       "</style>\n",
       "<table border=\"1\" class=\"dataframe\">\n",
       "  <thead>\n",
       "    <tr style=\"text-align: right;\">\n",
       "      <th></th>\n",
       "      <th>1</th>\n",
       "      <th>2</th>\n",
       "      <th>3</th>\n",
       "      <th>4</th>\n",
       "      <th>5</th>\n",
       "      <th>6</th>\n",
       "      <th>7</th>\n",
       "      <th>8</th>\n",
       "      <th>9</th>\n",
       "      <th>10</th>\n",
       "    </tr>\n",
       "  </thead>\n",
       "  <tbody>\n",
       "    <tr>\n",
       "      <th>0</th>\n",
       "      <td>0.229043</td>\n",
       "      <td>0.807926</td>\n",
       "      <td>-0.052442</td>\n",
       "      <td>0.082634</td>\n",
       "      <td>0.261718</td>\n",
       "      <td>0.148790</td>\n",
       "      <td>0.635431</td>\n",
       "      <td>0.051062</td>\n",
       "      <td>0.032902</td>\n",
       "      <td>-0.086652</td>\n",
       "    </tr>\n",
       "    <tr>\n",
       "      <th>1</th>\n",
       "      <td>0.019197</td>\n",
       "      <td>-0.040001</td>\n",
       "      <td>0.288973</td>\n",
       "      <td>-0.042597</td>\n",
       "      <td>0.261718</td>\n",
       "      <td>-1.013906</td>\n",
       "      <td>0.069175</td>\n",
       "      <td>0.890701</td>\n",
       "      <td>0.095265</td>\n",
       "      <td>-0.842014</td>\n",
       "    </tr>\n",
       "    <tr>\n",
       "      <th>2</th>\n",
       "      <td>0.043885</td>\n",
       "      <td>-0.173471</td>\n",
       "      <td>0.285416</td>\n",
       "      <td>-0.775121</td>\n",
       "      <td>0.172340</td>\n",
       "      <td>-0.391033</td>\n",
       "      <td>0.333428</td>\n",
       "      <td>-1.807711</td>\n",
       "      <td>-0.996086</td>\n",
       "      <td>-0.410850</td>\n",
       "    </tr>\n",
       "    <tr>\n",
       "      <th>3</th>\n",
       "      <td>-0.091897</td>\n",
       "      <td>0.297600</td>\n",
       "      <td>0.079145</td>\n",
       "      <td>0.196496</td>\n",
       "      <td>0.261718</td>\n",
       "      <td>-0.183409</td>\n",
       "      <td>0.220177</td>\n",
       "      <td>0.305093</td>\n",
       "      <td>-0.278912</td>\n",
       "      <td>-0.163443</td>\n",
       "    </tr>\n",
       "    <tr>\n",
       "      <th>4</th>\n",
       "      <td>0.438888</td>\n",
       "      <td>0.195534</td>\n",
       "      <td>0.143160</td>\n",
       "      <td>-0.809435</td>\n",
       "      <td>0.261718</td>\n",
       "      <td>-1.138481</td>\n",
       "      <td>-0.232828</td>\n",
       "      <td>-0.087894</td>\n",
       "      <td>-0.278912</td>\n",
       "      <td>-0.802015</td>\n",
       "    </tr>\n",
       "    <tr>\n",
       "      <th>...</th>\n",
       "      <td>...</td>\n",
       "      <td>...</td>\n",
       "      <td>...</td>\n",
       "      <td>...</td>\n",
       "      <td>...</td>\n",
       "      <td>...</td>\n",
       "      <td>...</td>\n",
       "      <td>...</td>\n",
       "      <td>...</td>\n",
       "      <td>...</td>\n",
       "    </tr>\n",
       "    <tr>\n",
       "      <th>12584</th>\n",
       "      <td>-0.227680</td>\n",
       "      <td>0.289748</td>\n",
       "      <td>0.132491</td>\n",
       "      <td>-0.234783</td>\n",
       "      <td>0.261718</td>\n",
       "      <td>-0.515608</td>\n",
       "      <td>0.446679</td>\n",
       "      <td>-0.365962</td>\n",
       "      <td>0.656532</td>\n",
       "      <td>-0.588254</td>\n",
       "    </tr>\n",
       "    <tr>\n",
       "      <th>12585</th>\n",
       "      <td>-0.202992</td>\n",
       "      <td>-0.377602</td>\n",
       "      <td>0.434785</td>\n",
       "      <td>0.244803</td>\n",
       "      <td>-0.721442</td>\n",
       "      <td>0.148790</td>\n",
       "      <td>0.446679</td>\n",
       "      <td>0.537049</td>\n",
       "      <td>0.531806</td>\n",
       "      <td>0.006559</td>\n",
       "    </tr>\n",
       "    <tr>\n",
       "      <th>12586</th>\n",
       "      <td>-0.128929</td>\n",
       "      <td>-0.409007</td>\n",
       "      <td>0.175168</td>\n",
       "      <td>-0.256565</td>\n",
       "      <td>0.082961</td>\n",
       "      <td>0.730137</td>\n",
       "      <td>0.182426</td>\n",
       "      <td>0.320101</td>\n",
       "      <td>0.438262</td>\n",
       "      <td>0.689204</td>\n",
       "    </tr>\n",
       "    <tr>\n",
       "      <th>12587</th>\n",
       "      <td>-0.215336</td>\n",
       "      <td>0.101320</td>\n",
       "      <td>0.235627</td>\n",
       "      <td>-0.280585</td>\n",
       "      <td>0.261718</td>\n",
       "      <td>-0.224934</td>\n",
       "      <td>0.031425</td>\n",
       "      <td>0.849171</td>\n",
       "      <td>0.781258</td>\n",
       "      <td>-0.104023</td>\n",
       "    </tr>\n",
       "    <tr>\n",
       "      <th>12588</th>\n",
       "      <td>-0.437525</td>\n",
       "      <td>0.423218</td>\n",
       "      <td>0.388552</td>\n",
       "      <td>0.620852</td>\n",
       "      <td>0.172340</td>\n",
       "      <td>-0.889332</td>\n",
       "      <td>0.144676</td>\n",
       "      <td>2.131034</td>\n",
       "      <td>1.373706</td>\n",
       "      <td>-0.771516</td>\n",
       "    </tr>\n",
       "  </tbody>\n",
       "</table>\n",
       "<p>12589 rows × 10 columns</p>\n",
       "</div>"
      ],
      "text/plain": [
       "              1         2         3         4         5         6         7  \\\n",
       "0      0.229043  0.807926 -0.052442  0.082634  0.261718  0.148790  0.635431   \n",
       "1      0.019197 -0.040001  0.288973 -0.042597  0.261718 -1.013906  0.069175   \n",
       "2      0.043885 -0.173471  0.285416 -0.775121  0.172340 -0.391033  0.333428   \n",
       "3     -0.091897  0.297600  0.079145  0.196496  0.261718 -0.183409  0.220177   \n",
       "4      0.438888  0.195534  0.143160 -0.809435  0.261718 -1.138481 -0.232828   \n",
       "...         ...       ...       ...       ...       ...       ...       ...   \n",
       "12584 -0.227680  0.289748  0.132491 -0.234783  0.261718 -0.515608  0.446679   \n",
       "12585 -0.202992 -0.377602  0.434785  0.244803 -0.721442  0.148790  0.446679   \n",
       "12586 -0.128929 -0.409007  0.175168 -0.256565  0.082961  0.730137  0.182426   \n",
       "12587 -0.215336  0.101320  0.235627 -0.280585  0.261718 -0.224934  0.031425   \n",
       "12588 -0.437525  0.423218  0.388552  0.620852  0.172340 -0.889332  0.144676   \n",
       "\n",
       "              8         9        10  \n",
       "0      0.051062  0.032902 -0.086652  \n",
       "1      0.890701  0.095265 -0.842014  \n",
       "2     -1.807711 -0.996086 -0.410850  \n",
       "3      0.305093 -0.278912 -0.163443  \n",
       "4     -0.087894 -0.278912 -0.802015  \n",
       "...         ...       ...       ...  \n",
       "12584 -0.365962  0.656532 -0.588254  \n",
       "12585  0.537049  0.531806  0.006559  \n",
       "12586  0.320101  0.438262  0.689204  \n",
       "12587  0.849171  0.781258 -0.104023  \n",
       "12588  2.131034  1.373706 -0.771516  \n",
       "\n",
       "[12589 rows x 10 columns]"
      ]
     },
     "execution_count": 4,
     "metadata": {},
     "output_type": "execute_result"
    }
   ],
   "source": [
    "data.loc[:, data.columns != 'class']"
   ]
  },
  {
   "cell_type": "code",
   "execution_count": 29,
   "metadata": {},
   "outputs": [],
   "source": [
    "# Split train and test sets\n",
    "\n",
    "splitter = ShuffleSplit(train_size=.8, random_state=76)\n",
    "X, y = data.loc[:, data.columns != 'class'], data['class']\n",
    "\n",
    "for train_idx, test_idx in splitter.split(X):\n",
    "    X_train, y_train = X.iloc[train_idx], y.iloc[train_idx]\n",
    "    X_test, y_test = X.iloc[test_idx], y.iloc[test_idx]"
   ]
  },
  {
   "cell_type": "markdown",
   "metadata": {},
   "source": [
    "2 Define the MLP architecture of an Automatic Classifier with r =3 classes\n",
    "- select an MLP architecture with three layers L1, H, L2, extended by a Softmax function and its\n",
    "final output layer OUT\n",
    "L1 => H => L2=> softmax => OUT\n",
    "of respective dimensions\n",
    "p = dim(L1) = # descriptors, h = dim(H) , dim(L2) = 3 ; dim(OUT) =3\n",
    "- select a response function (either the sigmoid function or the RELU function) to be set for all\n",
    "neurons\n",
    "- the goal of the MLP classifier is to provide for each input vector Xk an output probability\n",
    "vector OUTk very close to the binary vector encoding the true class of the input Xk\n",
    "- explain precisely what is the part played by the softmax function, and how the final\n",
    "classification of Xk is computed from OUTk"
   ]
  },
  {
   "cell_type": "code",
   "execution_count": 14,
   "metadata": {},
   "outputs": [],
   "source": [
    "# hidden layer size h\n",
    "dim_l1 = len(X_train.columns)\n",
    "h = 100\n",
    "dim_l2 = 3"
   ]
  },
  {
   "cell_type": "code",
   "execution_count": 15,
   "metadata": {},
   "outputs": [],
   "source": [
    "model = keras.models.Sequential([\n",
    "    keras.layers.Input(dim_l1, name= 'Input'),\n",
    "    keras.layers.Dense(h, activation='relu', name = 'H'),\n",
    "    keras.layers.Dense(dim_l2, activation='softmax')\n",
    "])"
   ]
  },
  {
   "cell_type": "code",
   "execution_count": 16,
   "metadata": {},
   "outputs": [
    {
     "name": "stdout",
     "output_type": "stream",
     "text": [
      "Model: \"sequential_1\"\n",
      "_________________________________________________________________\n",
      "Layer (type)                 Output Shape              Param #   \n",
      "=================================================================\n",
      "H (Dense)                    (None, 100)               1100      \n",
      "_________________________________________________________________\n",
      "dense_1 (Dense)              (None, 3)                 303       \n",
      "=================================================================\n",
      "Total params: 1,403\n",
      "Trainable params: 1,403\n",
      "Non-trainable params: 0\n",
      "_________________________________________________________________\n"
     ]
    }
   ],
   "source": [
    "model.summary()"
   ]
  },
  {
   "cell_type": "markdown",
   "metadata": {},
   "source": [
    "3. Select 2 tentative sizes h for the hidden layer\n",
    "\n",
    "To estimate one small but plausible value for h, namely h = h95 < p , apply PCA analysis to\n",
    "your training set of input vectors to generate p eigenvalues ordered in decreasing order\n",
    "Plot this decreasing sequence of eigenvalues in yr report\n",
    "Compute the smallest number \"h95\" of eigenvalues preserving 95% of the total sum of\n",
    "eigenvalues\n",
    "To estimate one larger plausible value hL for the size h , proceed as follows\n",
    "- apply PCA analysis to the set of Mj input vectors corresponding to the class Cj, with j=1,2 3 to\n",
    "generate Mj eigenvalues in decreasing order, and compute the smallest number \"Uj\" of\n",
    "eigenvalues preserving 95% of the total sum of these Mj eigenvalues;\n",
    "- then define hL = U1 + U2 +U3."
   ]
  },
  {
   "cell_type": "code",
   "execution_count": null,
   "metadata": {},
   "outputs": [],
   "source": []
  },
  {
   "cell_type": "code",
   "execution_count": 75,
   "metadata": {},
   "outputs": [],
   "source": [
    "X_train_corr = X_train.cov()"
   ]
  },
  {
   "cell_type": "code",
   "execution_count": 76,
   "metadata": {},
   "outputs": [],
   "source": [
    "# get eigen vals and eigen vects\n",
    "eigen_values, eigen_vectors = np.linalg.eig(X_train_corr)\n",
    "\n",
    "# get index of sorted eigen vals\n",
    "eigen_sorted_idx = eigen_values.argsort()[::-1]\n",
    "\n",
    "# re-arrange eigen vals and eigen vects in decreasing order\n",
    "eigen_values, eigen_vectors = eigen_values[eigen_sorted_idx], eigen_vectors[eigen_sorted_idx]"
   ]
  },
  {
   "cell_type": "code",
   "execution_count": 133,
   "metadata": {},
   "outputs": [
    {
     "data": {
      "text/plain": [
       "PCA(copy=True, iterated_power='auto', n_components=None, random_state=None,\n",
       "    svd_solver='auto', tol=0.0, whiten=False)"
      ]
     },
     "execution_count": 133,
     "metadata": {},
     "output_type": "execute_result"
    }
   ],
   "source": [
    "from sklearn.decomposition import PCA\n",
    "\n",
    "pca = PCA()\n",
    "\n",
    "pca.fit(X_train)"
   ]
  },
  {
   "cell_type": "code",
   "execution_count": 143,
   "metadata": {},
   "outputs": [],
   "source": [
    "?mlines.Line2D"
   ]
  },
  {
   "cell_type": "code",
   "execution_count": 145,
   "metadata": {},
   "outputs": [
    {
     "data": {
      "text/plain": [
       "Text(0, 0.5, 'cumulative explained variance')"
      ]
     },
     "execution_count": 145,
     "metadata": {},
     "output_type": "execute_result"
    },
    {
     "data": {
      "image/png": "[encoded data removed]",
      "text/plain": [
       "<Figure size 1080x576 with 1 Axes>"
      ]
     },
     "metadata": {
      "needs_background": "light"
     },
     "output_type": "display_data"
    }
   ],
   "source": [
    "fig, ax = plt.subplots(figsize=(15,8))\n",
    "ax.plot(np.cumsum(pca.explained_variance_ratio_))\n",
    "ax.set_xticks(np.arange(0,10))\n",
    "line = mlines.Line2D([-0.5,10],[.95, .95], linestyle='--')\n",
    "ax.add_line(line)\n",
    "\n",
    "plt.xlabel('number of components')\n",
    "plt.ylabel('cumulative explained variance')"
   ]
  },
  {
   "cell_type": "code",
   "execution_count": null,
   "metadata": {},
   "outputs": [],
   "source": []
  }
 ],
 "metadata": {
  "kernelspec": {
   "display_name": "Python 3",
   "language": "python",
   "name": "python3"
  },
  "language_info": {
   "codemirror_mode": {
    "name": "ipython",
    "version": 3
   },
   "file_extension": ".py",
   "mimetype": "text/x-python",
   "name": "python",
   "nbconvert_exporter": "python",
   "pygments_lexer": "ipython3",
   "version": "3.7.4"
  }
 },
 "nbformat": 4,
 "nbformat_minor": 2
}
